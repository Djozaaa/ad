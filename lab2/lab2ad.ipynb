{
 "cells": [
  {
   "cell_type": "markdown",
   "id": "fc14e381c5c48f75",
   "metadata": {
    "collapsed": false,
    "jupyter": {
     "outputs_hidden": false
    }
   },
   "source": [
    "## <center>Підготовка та аналіз даних</center>\n",
    "## <center>Лабораторна робота №2</center>\n",
    "#### <center>ФБ-25 Савченко Єлизавета</center>"
   ]
  },
  {
   "cell_type": "code",
   "execution_count": 49,
   "id": "c7bc6900-9f6e-4dd7-8325-2fc7a3a623d8",
   "metadata": {},
   "outputs": [
    {
     "name": "stdout",
     "output_type": "stream",
     "text": [
      "Defaulting to user installation because normal site-packages is not writeable\n",
      "Requirement already satisfied: pandas in /home/liza/.local/lib/python3.11/site-packages (2.2.1)\n",
      "Requirement already satisfied: numpy<2,>=1.23.2 in /usr/local/lib/python3.11/dist-packages (from pandas) (1.26.4)\n",
      "Requirement already satisfied: python-dateutil>=2.8.2 in /usr/lib/python3/dist-packages (from pandas) (2.8.2)\n",
      "Requirement already satisfied: pytz>=2020.1 in /usr/lib/python3/dist-packages (from pandas) (2023.3)\n",
      "Requirement already satisfied: tzdata>=2022.7 in /home/liza/.local/lib/python3.11/site-packages (from pandas) (2024.1)\n"
     ]
    }
   ],
   "source": [
    "!pip install pandas --break-system-packages\n"
   ]
  },
  {
   "cell_type": "markdown",
   "id": "4f68980069867b2e",
   "metadata": {
    "collapsed": false,
    "jupyter": {
     "outputs_hidden": false
    }
   },
   "source": [
    "Імпортуємо бібліотеки"
   ]
  },
  {
   "cell_type": "code",
   "execution_count": 50,
   "id": "de0396122080d568",
   "metadata": {
    "ExecuteTime": {
     "end_time": "2024-03-30T07:26:14.099849Z",
     "start_time": "2024-03-30T07:26:13.441237Z"
    },
    "collapsed": false,
    "jupyter": {
     "outputs_hidden": false
    }
   },
   "outputs": [],
   "source": [
    "import datetime\n",
    "import requests\n",
    "import urllib.request\n",
    "import pandas as pd\n",
    "import os"
   ]
  },
  {
   "cell_type": "markdown",
   "id": "07fcb8f4-bd25-4c26-a989-98610a7bafea",
   "metadata": {
    "collapsed": false,
    "jupyter": {
     "outputs_hidden": false
    }
   },
   "source": [
    "Скачуємо індекси для всіх областей. Додаємо в назву дату та час скачування"
   ]
  },
  {
   "cell_type": "code",
   "execution_count": 36,
   "id": "11037f3e-aeb9-4e53-ab84-12e53f5ae177",
   "metadata": {
    "ExecuteTime": {
     "start_time": "2024-03-30T07:20:16.582507Z"
    },
    "collapsed": false,
    "is_executing": true,
    "jupyter": {
     "outputs_hidden": false
    },
    "scrolled": true
   },
   "outputs": [
    {
     "name": "stdout",
     "output_type": "stream",
     "text": [
      "VHI from id 1 was downloaded at 2024-05-04_09-27-01\n",
      "VHI from id 2 was downloaded at 2024-05-04_09-27-03\n",
      "VHI from id 3 was downloaded at 2024-05-04_09-27-05\n",
      "VHI from id 4 was downloaded at 2024-05-04_09-27-07\n",
      "VHI from id 5 was downloaded at 2024-05-04_09-27-08\n",
      "VHI from id 6 was downloaded at 2024-05-04_09-27-10\n",
      "VHI from id 7 was downloaded at 2024-05-04_09-27-12\n",
      "VHI from id 8 was downloaded at 2024-05-04_09-27-14\n",
      "VHI from id 9 was downloaded at 2024-05-04_09-27-16\n",
      "VHI from id 10 was downloaded at 2024-05-04_09-27-18\n",
      "VHI from id 11 was downloaded at 2024-05-04_09-27-21\n",
      "VHI from id 12 was downloaded at 2024-05-04_09-27-22\n",
      "VHI from id 13 was downloaded at 2024-05-04_09-27-24\n",
      "VHI from id 14 was downloaded at 2024-05-04_09-27-26\n",
      "VHI from id 15 was downloaded at 2024-05-04_09-27-28\n",
      "VHI from id 16 was downloaded at 2024-05-04_09-27-30\n",
      "VHI from id 17 was downloaded at 2024-05-04_09-27-32\n",
      "VHI from id 18 was downloaded at 2024-05-04_09-27-33\n",
      "VHI from id 19 was downloaded at 2024-05-04_09-27-35\n",
      "VHI from id 20 was downloaded at 2024-05-04_09-27-37\n",
      "VHI from id 21 was downloaded at 2024-05-04_09-27-39\n",
      "VHI from id 22 was downloaded at 2024-05-04_09-27-41\n",
      "VHI from id 23 was downloaded at 2024-05-04_09-27-43\n",
      "VHI from id 24 was downloaded at 2024-05-04_09-27-45\n",
      "VHI from id 25 was downloaded at 2024-05-04_09-27-46\n",
      "VHI from id 26 was downloaded at 2024-05-04_09-27-53\n",
      "VHI from id 27 was downloaded at 2024-05-04_09-27-55\n"
     ]
    }
   ],
   "source": [
    "if os.path.exists('vhi'):\n",
    "    os.rename('vhi', 'vhi_backup_' + datetime.datetime.now().strftime(\"%Y-%m-%d_%H-%M-%S\"))\n",
    "os.mkdir('vhi')\n",
    "\n",
    "for ids in range(1, 28):\n",
    "    url = f\"https://www.star.nesdis.noaa.gov/smcd/emb/vci/VH/get_TS_admin.php?country=UKR&provinceID={ids}&year1=1981&year2=2024&type=Mean\"\n",
    "    response = requests.get(url)\n",
    "\n",
    "    if response.status_code != 200:\n",
    "        print(f\"Download complete\")\n",
    "        break\n",
    "\n",
    "    date_now = datetime.datetime.now().strftime(\"%Y-%m-%d_%H-%M-%S\")\n",
    "    vhi_url = urllib.request.urlopen(url)\n",
    "    file_name = f'vhi/vhi_{ids}_{date_now}.csv'\n",
    "    out = open(file_name, 'wb')\n",
    "    out.write(vhi_url.read())\n",
    "    out.close()\n",
    "    print(f\"VHI from id {ids} was downloaded at {date_now}\")"
   ]
  },
  {
   "cell_type": "markdown",
   "id": "80489f43036ad07f",
   "metadata": {
    "collapsed": false,
    "jupyter": {
     "outputs_hidden": false
    }
   },
   "source": [
    "Даємо імена стовбцям та зчитуємо файли у фрейм"
   ]
  },
  {
   "cell_type": "code",
   "execution_count": 58,
   "id": "db482e126477ec7f",
   "metadata": {
    "ExecuteTime": {
     "end_time": "2024-03-30T09:00:42.185037Z",
     "start_time": "2024-03-30T09:00:41.975937Z"
    },
    "collapsed": false,
    "jupyter": {
     "outputs_hidden": false
    }
   },
   "outputs": [
    {
     "name": "stdout",
     "output_type": "stream",
     "text": [
      "Дані до очищення:\n",
      "              Year  Week    SMN     SMT    VCI    TCI    VHI  ProvinceId\n",
      "0             1982   2.0  0.092  264.40  65.82  31.42  48.62          27\n",
      "1             1982   3.0  0.097  265.74  70.62  27.11  48.86          27\n",
      "2             1982   4.0  0.101  267.73  71.82  20.73  46.28          27\n",
      "3             1982   5.0  0.102  268.87  65.88  21.34  43.61          27\n",
      "4             1982   6.0  0.103  269.80  58.54  24.88  41.71          27\n",
      "...            ...   ...    ...     ...    ...    ...    ...         ...\n",
      "58072         2024  14.0  0.190  290.40  65.07  12.06  38.58          13\n",
      "58073         2024  15.0  0.209  290.95  62.82  20.96  41.90          13\n",
      "58074         2024  16.0  0.224  290.69  58.30  38.34  48.34          13\n",
      "58075         2024  17.0  0.233  291.06  51.65  56.57  54.14          13\n",
      "58076  </pre></tt>   NaN    NaN     NaN    NaN    NaN    NaN          13\n",
      "\n",
      "[58077 rows x 8 columns] \n",
      "\n",
      "Дані, що містять знак питання:\n",
      "Empty DataFrame\n",
      "Columns: [Year, Week, SMN, SMT, VCI, TCI, VHI, ProvinceId]\n",
      "Index: [] \n",
      "\n",
      "       Year  Week    SMN     SMT    VCI    TCI    VHI  ProvinceId\n",
      "0      1982   2.0  0.092  264.40  65.82  31.42  48.62          27\n",
      "1      1982   3.0  0.097  265.74  70.62  27.11  48.86          27\n",
      "2      1982   4.0  0.101  267.73  71.82  20.73  46.28          27\n",
      "3      1982   5.0  0.102  268.87  65.88  21.34  43.61          27\n",
      "4      1982   6.0  0.103  269.80  58.54  24.88  41.71          27\n",
      "...     ...   ...    ...     ...    ...    ...    ...         ...\n",
      "58071  2024  13.0  0.173  289.05  65.07   8.82  36.95          13\n",
      "58072  2024  14.0  0.190  290.40  65.07  12.06  38.58          13\n",
      "58073  2024  15.0  0.209  290.95  62.82  20.96  41.90          13\n",
      "58074  2024  16.0  0.224  290.69  58.30  38.34  48.34          13\n",
      "58075  2024  17.0  0.233  291.06  51.65  56.57  54.14          13\n",
      "\n",
      "[58050 rows x 8 columns] \n",
      "\n",
      "Дані після очищення:\n",
      "       Year  Week    SMN     SMT    VCI    TCI    VHI  ProvinceId\n",
      "0      1982   2.0  0.092  264.40  65.82  31.42  48.62          27\n",
      "1      1982   3.0  0.097  265.74  70.62  27.11  48.86          27\n",
      "2      1982   4.0  0.101  267.73  71.82  20.73  46.28          27\n",
      "3      1982   5.0  0.102  268.87  65.88  21.34  43.61          27\n",
      "4      1982   6.0  0.103  269.80  58.54  24.88  41.71          27\n",
      "...     ...   ...    ...     ...    ...    ...    ...         ...\n",
      "58071  2024  13.0  0.173  289.05  65.07   8.82  36.95          13\n",
      "58072  2024  14.0  0.190  290.40  65.07  12.06  38.58          13\n",
      "58073  2024  15.0  0.209  290.95  62.82  20.96  41.90          13\n",
      "58074  2024  16.0  0.224  290.69  58.30  38.34  48.34          13\n",
      "58075  2024  17.0  0.233  291.06  51.65  56.57  54.14          13\n",
      "\n",
      "[58050 rows x 8 columns]\n"
     ]
    }
   ],
   "source": [
    "folder = 'vhi'\n",
    "files = os.listdir(folder)\n",
    "df_all = pd.DataFrame()\n",
    "\n",
    "for file_name in files:\n",
    "    headers = ['Year', 'Week', 'SMN', 'SMT', 'VCI', 'TCI', 'VHI', 'empty']\n",
    "    if file_name == 'df_all.csv':\n",
    "        continue\n",
    "    df = pd.read_csv(f'{folder}/{file_name}', header=1, names=headers, skiprows=1)\n",
    "    df['ProvinceId'] = int(file_name.split(\"_\")[1])\n",
    "    df = df.drop(df.loc[df['VHI'] == -1].index)\n",
    "    df = df.drop(columns=['empty'])\n",
    "    df_all = pd.concat([df_all, df]).drop_duplicates().reset_index(drop=True)\n",
    "\n",
    "print(\"Дані до очищення:\")\n",
    "print(df_all, '\\n')\n",
    "\n",
    "df_with_question_mark = df_all[df_all.apply(lambda x: x.astype(str).str.contains('\\?', na=False)).any(axis=1)]\n",
    "print(\"Дані, що містять знак питання:\")\n",
    "print(df_with_question_mark, '\\n')\n",
    "df_all = df_all.dropna(axis=0, how='any')\n",
    "print(df_all, '\\n')\n",
    "print(\"Дані після очищення:\")\n",
    "df_cleaned = df_all.drop(df_with_question_mark.index)\n",
    "print(df_cleaned)"
   ]
  },
  {
   "cell_type": "markdown",
   "id": "42b687c4180eeb1",
   "metadata": {
    "collapsed": false,
    "jupyter": {
     "outputs_hidden": false
    }
   },
   "source": [
    "Змінюємо індекси областей"
   ]
  },
  {
   "cell_type": "code",
   "execution_count": 38,
   "id": "2b145b37d7eb786a",
   "metadata": {
    "ExecuteTime": {
     "end_time": "2024-03-30T07:36:02.703521Z",
     "start_time": "2024-03-30T07:36:02.414932Z"
    },
    "collapsed": false,
    "jupyter": {
     "outputs_hidden": false
    }
   },
   "outputs": [
    {
     "name": "stdout",
     "output_type": "stream",
     "text": [
      "       Year  Week    SMN     SMT    VCI    TCI    VHI  ProvinceId\n",
      "0      1982   2.0  0.092  264.40  65.82  31.42  48.62           5\n",
      "1      1982   3.0  0.097  265.74  70.62  27.11  48.86           5\n",
      "2      1982   4.0  0.101  267.73  71.82  20.73  46.28           5\n",
      "3      1982   5.0  0.102  268.87  65.88  21.34  43.61           5\n",
      "4      1982   6.0  0.103  269.80  58.54  24.88  41.71           5\n",
      "...     ...   ...    ...     ...    ...    ...    ...         ...\n",
      "58071  2024  13.0  0.173  289.05  65.07   8.82  36.95          10\n",
      "58072  2024  14.0  0.190  290.40  65.07  12.06  38.58          10\n",
      "58073  2024  15.0  0.209  290.95  62.82  20.96  41.90          10\n",
      "58074  2024  16.0  0.224  290.69  58.30  38.34  48.34          10\n",
      "58075  2024  17.0  0.233  291.06  51.65  56.57  54.14          10\n",
      "\n",
      "[58050 rows x 8 columns]\n"
     ]
    }
   ],
   "source": [
    "ProvinceId_replacements = {1: 22, 2: 24, 3: 23, 4: 25, 5: 3, 6: 4, 7: 8, 8: 19, 9: 20, 10: 21, 11: 9, 13: 10, 14: 11, 15: 12,\n",
    "              16: 13, 17: 15, 18: 14, 19: 16, 21: 17, 22: 18, 23: 6, 24: 1, 25: 2, 26: 7, 27: 5}\n",
    "df_all[\"ProvinceId\"] = df_all[\"ProvinceId\"].replace(ProvinceId_replacements)\n",
    "df_all.to_csv(f'vhi/df_all.csv', index=False)\n",
    "\n",
    "print(df_all)"
   ]
  },
  {
   "cell_type": "markdown",
   "id": "632a3adc656dbfd6",
   "metadata": {
    "collapsed": false,
    "jupyter": {
     "outputs_hidden": false
    }
   },
   "source": [
    "Ряд VHI для області за вказаний рік, пошук екстремумів (min та max);"
   ]
  },
  {
   "cell_type": "code",
   "execution_count": 39,
   "id": "9dbad0af5f294086",
   "metadata": {
    "ExecuteTime": {
     "end_time": "2024-03-30T07:36:47.171914Z",
     "start_time": "2024-03-30T07:36:47.157949Z"
    },
    "collapsed": false,
    "jupyter": {
     "outputs_hidden": false
    }
   },
   "outputs": [],
   "source": [
    "def vhi(ProvinceId, year):\n",
    "    filtered_df = df_all[(df_all[\"ProvinceId\"] == ProvinceId) & (df_all[\"Year\"] == year)]\n",
    "    return filtered_df['VHI']\n",
    "\n",
    "def vhi_min(ProvinceId, year):\n",
    "    filtered_df = df_all[(df_all[\"ProvinceId\"] == ProvinceId) & (df_all[\"Year\"] == year)]\n",
    "    return filtered_df['VHI'].min()\n",
    "\n",
    "def vhi_max(ProvinceId, year):\n",
    "    filtered_df = df_all[(df_all[\"ProvinceId\"] == ProvinceId) & (df_all[\"Year\"] == year)]\n",
    "    return filtered_df['VHI'].max()\n",
    "\n",
    "df_all['Year'] = df_all['Year'].astype(int)\n"
   ]
  },
  {
   "cell_type": "code",
   "execution_count": 40,
   "id": "5c67ef44cb95dba5",
   "metadata": {
    "ExecuteTime": {
     "end_time": "2024-03-30T07:36:48.988524Z",
     "start_time": "2024-03-30T07:36:48.978634Z"
    },
    "collapsed": false,
    "jupyter": {
     "outputs_hidden": false
    }
   },
   "outputs": [
    {
     "data": {
      "text/plain": [
       "46317    47.42\n",
       "46318    51.20\n",
       "46319    53.68\n",
       "46320    54.35\n",
       "46321    54.66\n",
       "46322    56.10\n",
       "46323    56.81\n",
       "46324    56.06\n",
       "46325    56.27\n",
       "46326    56.51\n",
       "46327    56.42\n",
       "46328    56.02\n",
       "46329    54.84\n",
       "46330    52.12\n",
       "46331    49.52\n",
       "46332    48.44\n",
       "46333    53.62\n",
       "46334    52.32\n",
       "46335    52.21\n",
       "46336    51.77\n",
       "46337    53.50\n",
       "46338    54.49\n",
       "46339    54.25\n",
       "46340    55.50\n",
       "46341    57.29\n",
       "46342    57.93\n",
       "46343    58.44\n",
       "46344    65.13\n",
       "46345    59.35\n",
       "46346    61.40\n",
       "46347    63.51\n",
       "46348    64.39\n",
       "46349    66.13\n",
       "46350    65.04\n",
       "46351    60.86\n",
       "46352    57.68\n",
       "46353    56.59\n",
       "46354    54.98\n",
       "46355    53.23\n",
       "46356    52.48\n",
       "46357    55.20\n",
       "46358    57.22\n",
       "46359    57.66\n",
       "46360    58.95\n",
       "46361    56.50\n",
       "46362    54.77\n",
       "46363    54.48\n",
       "46364    53.22\n",
       "46365    50.36\n",
       "46366    47.41\n",
       "46367    45.59\n",
       "Name: VHI, dtype: float64"
      ]
     },
     "execution_count": 40,
     "metadata": {},
     "output_type": "execute_result"
    }
   ],
   "source": [
    "vhi(6, 2005)"
   ]
  },
  {
   "cell_type": "code",
   "execution_count": 41,
   "id": "c2bb5911b9baf5ff",
   "metadata": {
    "ExecuteTime": {
     "end_time": "2024-03-30T07:38:09.963608Z",
     "start_time": "2024-03-30T07:38:09.955150Z"
    },
    "collapsed": false,
    "jupyter": {
     "outputs_hidden": false
    }
   },
   "outputs": [
    {
     "data": {
      "text/plain": [
       "45.59"
      ]
     },
     "execution_count": 41,
     "metadata": {},
     "output_type": "execute_result"
    }
   ],
   "source": [
    "vhi_min(6, 2005)\n"
   ]
  },
  {
   "cell_type": "code",
   "execution_count": 42,
   "id": "351177b371823c66",
   "metadata": {
    "ExecuteTime": {
     "end_time": "2024-03-27T17:09:47.137101Z",
     "start_time": "2024-03-27T17:09:47.129144Z"
    },
    "collapsed": false,
    "jupyter": {
     "outputs_hidden": false
    }
   },
   "outputs": [
    {
     "data": {
      "text/plain": [
       "66.13"
      ]
     },
     "execution_count": 42,
     "metadata": {},
     "output_type": "execute_result"
    }
   ],
   "source": [
    "vhi_max(6, 2005)"
   ]
  },
  {
   "cell_type": "markdown",
   "id": "6c4fa7f1dc1034",
   "metadata": {
    "collapsed": false,
    "jupyter": {
     "outputs_hidden": false
    }
   },
   "source": [
    "Ряд VHI за вказаний діапазон років для вказаних областей"
   ]
  },
  {
   "cell_type": "code",
   "execution_count": 43,
   "id": "d6330356711067b2",
   "metadata": {
    "ExecuteTime": {
     "end_time": "2024-03-30T07:39:41.943891Z",
     "start_time": "2024-03-30T07:39:41.937760Z"
    },
    "collapsed": false,
    "jupyter": {
     "outputs_hidden": false
    }
   },
   "outputs": [],
   "source": [
    "def vhi_range(year_min, year_max, ProvinceIds):\n",
    "    if not isinstance(ProvinceIds, list) or not ProvinceIds:\n",
    "        print('Empty or not a list')\n",
    "        return\n",
    "    filtered_df = df_all[(df_all['Year'] >= year_min) & (df_all['Year'] <= year_max) & (df_all['ProvinceId'].isin(ProvinceIds))]\n",
    "    return filtered_df[['Year', 'VHI', 'ProvinceId']]\n"
   ]
  },
  {
   "cell_type": "code",
   "execution_count": 44,
   "id": "8f030efeac64dc00",
   "metadata": {
    "ExecuteTime": {
     "end_time": "2024-03-30T07:39:53.900239Z",
     "start_time": "2024-03-30T07:39:53.883923Z"
    },
    "collapsed": false,
    "jupyter": {
     "outputs_hidden": false
    }
   },
   "outputs": [
    {
     "data": {
      "text/html": [
       "<div>\n",
       "<style scoped>\n",
       "    .dataframe tbody tr th:only-of-type {\n",
       "        vertical-align: middle;\n",
       "    }\n",
       "\n",
       "    .dataframe tbody tr th {\n",
       "        vertical-align: top;\n",
       "    }\n",
       "\n",
       "    .dataframe thead th {\n",
       "        text-align: right;\n",
       "    }\n",
       "</style>\n",
       "<table border=\"1\" class=\"dataframe\">\n",
       "  <thead>\n",
       "    <tr style=\"text-align: right;\">\n",
       "      <th></th>\n",
       "      <th>Year</th>\n",
       "      <th>VHI</th>\n",
       "      <th>ProvinceId</th>\n",
       "    </tr>\n",
       "  </thead>\n",
       "  <tbody>\n",
       "    <tr>\n",
       "      <th>905</th>\n",
       "      <td>2000</td>\n",
       "      <td>27.46</td>\n",
       "      <td>5</td>\n",
       "    </tr>\n",
       "    <tr>\n",
       "      <th>906</th>\n",
       "      <td>2000</td>\n",
       "      <td>30.88</td>\n",
       "      <td>5</td>\n",
       "    </tr>\n",
       "    <tr>\n",
       "      <th>907</th>\n",
       "      <td>2000</td>\n",
       "      <td>33.00</td>\n",
       "      <td>5</td>\n",
       "    </tr>\n",
       "    <tr>\n",
       "      <th>908</th>\n",
       "      <td>2000</td>\n",
       "      <td>36.72</td>\n",
       "      <td>5</td>\n",
       "    </tr>\n",
       "    <tr>\n",
       "      <th>909</th>\n",
       "      <td>2000</td>\n",
       "      <td>39.12</td>\n",
       "      <td>5</td>\n",
       "    </tr>\n",
       "    <tr>\n",
       "      <th>...</th>\n",
       "      <td>...</td>\n",
       "      <td>...</td>\n",
       "      <td>...</td>\n",
       "    </tr>\n",
       "    <tr>\n",
       "      <th>22651</th>\n",
       "      <td>2004</td>\n",
       "      <td>55.14</td>\n",
       "      <td>2</td>\n",
       "    </tr>\n",
       "    <tr>\n",
       "      <th>22652</th>\n",
       "      <td>2004</td>\n",
       "      <td>52.90</td>\n",
       "      <td>2</td>\n",
       "    </tr>\n",
       "    <tr>\n",
       "      <th>22653</th>\n",
       "      <td>2004</td>\n",
       "      <td>50.57</td>\n",
       "      <td>2</td>\n",
       "    </tr>\n",
       "    <tr>\n",
       "      <th>22654</th>\n",
       "      <td>2004</td>\n",
       "      <td>50.45</td>\n",
       "      <td>2</td>\n",
       "    </tr>\n",
       "    <tr>\n",
       "      <th>22655</th>\n",
       "      <td>2004</td>\n",
       "      <td>54.07</td>\n",
       "      <td>2</td>\n",
       "    </tr>\n",
       "  </tbody>\n",
       "</table>\n",
       "<p>723 rows × 3 columns</p>\n",
       "</div>"
      ],
      "text/plain": [
       "       Year    VHI  ProvinceId\n",
       "905    2000  27.46           5\n",
       "906    2000  30.88           5\n",
       "907    2000  33.00           5\n",
       "908    2000  36.72           5\n",
       "909    2000  39.12           5\n",
       "...     ...    ...         ...\n",
       "22651  2004  55.14           2\n",
       "22652  2004  52.90           2\n",
       "22653  2004  50.57           2\n",
       "22654  2004  50.45           2\n",
       "22655  2004  54.07           2\n",
       "\n",
       "[723 rows x 3 columns]"
      ]
     },
     "execution_count": 44,
     "metadata": {},
     "output_type": "execute_result"
    }
   ],
   "source": [
    "vhi_range(2000, 2004, [5, 2, 3])"
   ]
  },
  {
   "cell_type": "markdown",
   "id": "966b2871126f482f",
   "metadata": {
    "collapsed": false,
    "jupyter": {
     "outputs_hidden": false
    }
   },
   "source": [
    "Роки, протягом яких екстремальні посухи торкнулися більше вказаного відсотка областей"
   ]
  },
  {
   "cell_type": "code",
   "execution_count": 45,
   "id": "7f3324f43b066dff",
   "metadata": {
    "ExecuteTime": {
     "end_time": "2024-03-30T07:41:55.498419Z",
     "start_time": "2024-03-30T07:41:55.492828Z"
    },
    "collapsed": false,
    "jupyter": {
     "outputs_hidden": false
    }
   },
   "outputs": [],
   "source": [
    "def extreme_droughts(percent):\n",
    "    df_drouhts = df_all[(df_all['VHI'] <= 15) & (df_all['VHI'] != -1)]\n",
    "    grouped = df_drouhts.groupby('Year')['ProvinceId'].nunique()\n",
    "    result = grouped[grouped > (25 * percent / 100)].reset_index()\n",
    "    return result"
   ]
  },
  {
   "cell_type": "code",
   "execution_count": 60,
   "id": "c1611615e5754f8f",
   "metadata": {
    "ExecuteTime": {
     "end_time": "2024-03-30T07:42:18.748476Z",
     "start_time": "2024-03-30T07:42:18.736147Z"
    },
    "collapsed": false,
    "jupyter": {
     "outputs_hidden": false
    }
   },
   "outputs": [
    {
     "data": {
      "text/html": [
       "<div>\n",
       "<style scoped>\n",
       "    .dataframe tbody tr th:only-of-type {\n",
       "        vertical-align: middle;\n",
       "    }\n",
       "\n",
       "    .dataframe tbody tr th {\n",
       "        vertical-align: top;\n",
       "    }\n",
       "\n",
       "    .dataframe thead th {\n",
       "        text-align: right;\n",
       "    }\n",
       "</style>\n",
       "<table border=\"1\" class=\"dataframe\">\n",
       "  <thead>\n",
       "    <tr style=\"text-align: right;\">\n",
       "      <th></th>\n",
       "      <th>Year</th>\n",
       "      <th>ProvinceId</th>\n",
       "    </tr>\n",
       "  </thead>\n",
       "  <tbody>\n",
       "    <tr>\n",
       "      <th>0</th>\n",
       "      <td>1984</td>\n",
       "      <td>1</td>\n",
       "    </tr>\n",
       "    <tr>\n",
       "      <th>1</th>\n",
       "      <td>1986</td>\n",
       "      <td>2</td>\n",
       "    </tr>\n",
       "    <tr>\n",
       "      <th>2</th>\n",
       "      <td>1993</td>\n",
       "      <td>2</td>\n",
       "    </tr>\n",
       "    <tr>\n",
       "      <th>3</th>\n",
       "      <td>1994</td>\n",
       "      <td>1</td>\n",
       "    </tr>\n",
       "    <tr>\n",
       "      <th>4</th>\n",
       "      <td>1999</td>\n",
       "      <td>1</td>\n",
       "    </tr>\n",
       "    <tr>\n",
       "      <th>5</th>\n",
       "      <td>2000</td>\n",
       "      <td>6</td>\n",
       "    </tr>\n",
       "    <tr>\n",
       "      <th>6</th>\n",
       "      <td>2003</td>\n",
       "      <td>1</td>\n",
       "    </tr>\n",
       "    <tr>\n",
       "      <th>7</th>\n",
       "      <td>2007</td>\n",
       "      <td>5</td>\n",
       "    </tr>\n",
       "    <tr>\n",
       "      <th>8</th>\n",
       "      <td>2012</td>\n",
       "      <td>1</td>\n",
       "    </tr>\n",
       "  </tbody>\n",
       "</table>\n",
       "</div>"
      ],
      "text/plain": [
       "   Year  ProvinceId\n",
       "0  1984           1\n",
       "1  1986           2\n",
       "2  1993           2\n",
       "3  1994           1\n",
       "4  1999           1\n",
       "5  2000           6\n",
       "6  2003           1\n",
       "7  2007           5\n",
       "8  2012           1"
      ]
     },
     "execution_count": 60,
     "metadata": {},
     "output_type": "execute_result"
    }
   ],
   "source": [
    "extreme_droughts(1)"
   ]
  },
  {
   "cell_type": "markdown",
   "id": "74fd3bb1c45a12f7",
   "metadata": {
    "collapsed": false,
    "jupyter": {
     "outputs_hidden": false
    }
   },
   "source": [
    "І так само для помірних посух"
   ]
  },
  {
   "cell_type": "code",
   "execution_count": 47,
   "id": "f4ad8b2ed29bf275",
   "metadata": {
    "ExecuteTime": {
     "end_time": "2024-03-30T07:45:09.039147Z",
     "start_time": "2024-03-30T07:45:09.030011Z"
    },
    "collapsed": false,
    "jupyter": {
     "outputs_hidden": false
    }
   },
   "outputs": [],
   "source": [
    "def moderate_droughts(percent, min=15, max=40):\n",
    "    df_drouhts = df_all[(df_all['VHI'] >= min) & (df_all['VHI'] <= max)]\n",
    "    grouped = df_drouhts.groupby('Year')['ProvinceId'].nunique()\n",
    "    count_areas = df_all['ProvinceId'].nunique()\n",
    "    result = grouped[grouped > (count_areas * percent / 100)].reset_index()\n",
    "    return result"
   ]
  },
  {
   "cell_type": "code",
   "execution_count": 48,
   "id": "13ae1a171ce9927b",
   "metadata": {
    "ExecuteTime": {
     "end_time": "2024-03-30T07:45:09.671329Z",
     "start_time": "2024-03-30T07:45:09.658365Z"
    },
    "collapsed": false,
    "jupyter": {
     "outputs_hidden": false
    }
   },
   "outputs": [
    {
     "data": {
      "text/html": [
       "<div>\n",
       "<style scoped>\n",
       "    .dataframe tbody tr th:only-of-type {\n",
       "        vertical-align: middle;\n",
       "    }\n",
       "\n",
       "    .dataframe tbody tr th {\n",
       "        vertical-align: top;\n",
       "    }\n",
       "\n",
       "    .dataframe thead th {\n",
       "        text-align: right;\n",
       "    }\n",
       "</style>\n",
       "<table border=\"1\" class=\"dataframe\">\n",
       "  <thead>\n",
       "    <tr style=\"text-align: right;\">\n",
       "      <th></th>\n",
       "      <th>Year</th>\n",
       "      <th>ProvinceId</th>\n",
       "    </tr>\n",
       "  </thead>\n",
       "  <tbody>\n",
       "    <tr>\n",
       "      <th>0</th>\n",
       "      <td>1982</td>\n",
       "      <td>25</td>\n",
       "    </tr>\n",
       "    <tr>\n",
       "      <th>1</th>\n",
       "      <td>1983</td>\n",
       "      <td>25</td>\n",
       "    </tr>\n",
       "    <tr>\n",
       "      <th>2</th>\n",
       "      <td>1984</td>\n",
       "      <td>25</td>\n",
       "    </tr>\n",
       "    <tr>\n",
       "      <th>3</th>\n",
       "      <td>1985</td>\n",
       "      <td>25</td>\n",
       "    </tr>\n",
       "    <tr>\n",
       "      <th>4</th>\n",
       "      <td>1986</td>\n",
       "      <td>25</td>\n",
       "    </tr>\n",
       "    <tr>\n",
       "      <th>5</th>\n",
       "      <td>1987</td>\n",
       "      <td>25</td>\n",
       "    </tr>\n",
       "    <tr>\n",
       "      <th>6</th>\n",
       "      <td>1988</td>\n",
       "      <td>25</td>\n",
       "    </tr>\n",
       "    <tr>\n",
       "      <th>7</th>\n",
       "      <td>1989</td>\n",
       "      <td>25</td>\n",
       "    </tr>\n",
       "    <tr>\n",
       "      <th>8</th>\n",
       "      <td>1990</td>\n",
       "      <td>25</td>\n",
       "    </tr>\n",
       "    <tr>\n",
       "      <th>9</th>\n",
       "      <td>1991</td>\n",
       "      <td>24</td>\n",
       "    </tr>\n",
       "    <tr>\n",
       "      <th>10</th>\n",
       "      <td>1992</td>\n",
       "      <td>25</td>\n",
       "    </tr>\n",
       "    <tr>\n",
       "      <th>11</th>\n",
       "      <td>1993</td>\n",
       "      <td>25</td>\n",
       "    </tr>\n",
       "    <tr>\n",
       "      <th>12</th>\n",
       "      <td>1994</td>\n",
       "      <td>25</td>\n",
       "    </tr>\n",
       "    <tr>\n",
       "      <th>13</th>\n",
       "      <td>1995</td>\n",
       "      <td>25</td>\n",
       "    </tr>\n",
       "    <tr>\n",
       "      <th>14</th>\n",
       "      <td>1996</td>\n",
       "      <td>25</td>\n",
       "    </tr>\n",
       "    <tr>\n",
       "      <th>15</th>\n",
       "      <td>1997</td>\n",
       "      <td>22</td>\n",
       "    </tr>\n",
       "    <tr>\n",
       "      <th>16</th>\n",
       "      <td>1998</td>\n",
       "      <td>18</td>\n",
       "    </tr>\n",
       "    <tr>\n",
       "      <th>17</th>\n",
       "      <td>1999</td>\n",
       "      <td>25</td>\n",
       "    </tr>\n",
       "    <tr>\n",
       "      <th>18</th>\n",
       "      <td>2000</td>\n",
       "      <td>25</td>\n",
       "    </tr>\n",
       "    <tr>\n",
       "      <th>19</th>\n",
       "      <td>2001</td>\n",
       "      <td>21</td>\n",
       "    </tr>\n",
       "    <tr>\n",
       "      <th>20</th>\n",
       "      <td>2002</td>\n",
       "      <td>21</td>\n",
       "    </tr>\n",
       "    <tr>\n",
       "      <th>21</th>\n",
       "      <td>2003</td>\n",
       "      <td>20</td>\n",
       "    </tr>\n",
       "    <tr>\n",
       "      <th>22</th>\n",
       "      <td>2004</td>\n",
       "      <td>6</td>\n",
       "    </tr>\n",
       "    <tr>\n",
       "      <th>23</th>\n",
       "      <td>2005</td>\n",
       "      <td>15</td>\n",
       "    </tr>\n",
       "    <tr>\n",
       "      <th>24</th>\n",
       "      <td>2006</td>\n",
       "      <td>21</td>\n",
       "    </tr>\n",
       "    <tr>\n",
       "      <th>25</th>\n",
       "      <td>2007</td>\n",
       "      <td>21</td>\n",
       "    </tr>\n",
       "    <tr>\n",
       "      <th>26</th>\n",
       "      <td>2008</td>\n",
       "      <td>22</td>\n",
       "    </tr>\n",
       "    <tr>\n",
       "      <th>27</th>\n",
       "      <td>2009</td>\n",
       "      <td>25</td>\n",
       "    </tr>\n",
       "    <tr>\n",
       "      <th>28</th>\n",
       "      <td>2010</td>\n",
       "      <td>22</td>\n",
       "    </tr>\n",
       "    <tr>\n",
       "      <th>29</th>\n",
       "      <td>2011</td>\n",
       "      <td>21</td>\n",
       "    </tr>\n",
       "    <tr>\n",
       "      <th>30</th>\n",
       "      <td>2012</td>\n",
       "      <td>19</td>\n",
       "    </tr>\n",
       "    <tr>\n",
       "      <th>31</th>\n",
       "      <td>2013</td>\n",
       "      <td>23</td>\n",
       "    </tr>\n",
       "    <tr>\n",
       "      <th>32</th>\n",
       "      <td>2014</td>\n",
       "      <td>21</td>\n",
       "    </tr>\n",
       "    <tr>\n",
       "      <th>33</th>\n",
       "      <td>2015</td>\n",
       "      <td>25</td>\n",
       "    </tr>\n",
       "    <tr>\n",
       "      <th>34</th>\n",
       "      <td>2016</td>\n",
       "      <td>23</td>\n",
       "    </tr>\n",
       "    <tr>\n",
       "      <th>35</th>\n",
       "      <td>2017</td>\n",
       "      <td>22</td>\n",
       "    </tr>\n",
       "    <tr>\n",
       "      <th>36</th>\n",
       "      <td>2018</td>\n",
       "      <td>24</td>\n",
       "    </tr>\n",
       "    <tr>\n",
       "      <th>37</th>\n",
       "      <td>2019</td>\n",
       "      <td>25</td>\n",
       "    </tr>\n",
       "    <tr>\n",
       "      <th>38</th>\n",
       "      <td>2020</td>\n",
       "      <td>23</td>\n",
       "    </tr>\n",
       "    <tr>\n",
       "      <th>39</th>\n",
       "      <td>2021</td>\n",
       "      <td>23</td>\n",
       "    </tr>\n",
       "    <tr>\n",
       "      <th>40</th>\n",
       "      <td>2022</td>\n",
       "      <td>23</td>\n",
       "    </tr>\n",
       "    <tr>\n",
       "      <th>41</th>\n",
       "      <td>2023</td>\n",
       "      <td>23</td>\n",
       "    </tr>\n",
       "    <tr>\n",
       "      <th>42</th>\n",
       "      <td>2024</td>\n",
       "      <td>10</td>\n",
       "    </tr>\n",
       "  </tbody>\n",
       "</table>\n",
       "</div>"
      ],
      "text/plain": [
       "    Year  ProvinceId\n",
       "0   1982          25\n",
       "1   1983          25\n",
       "2   1984          25\n",
       "3   1985          25\n",
       "4   1986          25\n",
       "5   1987          25\n",
       "6   1988          25\n",
       "7   1989          25\n",
       "8   1990          25\n",
       "9   1991          24\n",
       "10  1992          25\n",
       "11  1993          25\n",
       "12  1994          25\n",
       "13  1995          25\n",
       "14  1996          25\n",
       "15  1997          22\n",
       "16  1998          18\n",
       "17  1999          25\n",
       "18  2000          25\n",
       "19  2001          21\n",
       "20  2002          21\n",
       "21  2003          20\n",
       "22  2004           6\n",
       "23  2005          15\n",
       "24  2006          21\n",
       "25  2007          21\n",
       "26  2008          22\n",
       "27  2009          25\n",
       "28  2010          22\n",
       "29  2011          21\n",
       "30  2012          19\n",
       "31  2013          23\n",
       "32  2014          21\n",
       "33  2015          25\n",
       "34  2016          23\n",
       "35  2017          22\n",
       "36  2018          24\n",
       "37  2019          25\n",
       "38  2020          23\n",
       "39  2021          23\n",
       "40  2022          23\n",
       "41  2023          23\n",
       "42  2024          10"
      ]
     },
     "execution_count": 48,
     "metadata": {},
     "output_type": "execute_result"
    }
   ],
   "source": [
    "moderate_droughts(10)"
   ]
  },
  {
   "cell_type": "code",
   "execution_count": null,
   "id": "3dc0ae4bba2a2e6e",
   "metadata": {
    "ExecuteTime": {
     "start_time": "2024-03-27T16:56:45.858690Z"
    },
    "collapsed": false,
    "jupyter": {
     "outputs_hidden": false
    }
   },
   "outputs": [],
   "source": []
  },
  {
   "cell_type": "code",
   "execution_count": null,
   "id": "4ec1f616-c11a-4fbb-b2a3-1a7b4e100a87",
   "metadata": {},
   "outputs": [],
   "source": []
  }
 ],
 "metadata": {
  "kernelspec": {
   "display_name": "Python 3 (ipykernel)",
   "language": "python",
   "name": "python3"
  },
  "language_info": {
   "codemirror_mode": {
    "name": "ipython",
    "version": 3
   },
   "file_extension": ".py",
   "mimetype": "text/x-python",
   "name": "python",
   "nbconvert_exporter": "python",
   "pygments_lexer": "ipython3",
   "version": "3.11.6"
  }
 },
 "nbformat": 4,
 "nbformat_minor": 5
}
